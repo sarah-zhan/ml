{
 "cells": [
  {
   "cell_type": "markdown",
   "metadata": {},
   "source": [
    "### Week8 Deep Learning\n",
    "\n",
    "Dataset\n",
    "In this homework, we'll build a model for predicting if we have an image of a bee or a wasp. For this, we will use the \"Bee or Wasp?\" dataset that was obtained from [Kaggle](https://www.kaggle.com/datasets/jerzydziewierz/bee-vs-wasp) and slightly rebuilt.\n",
    "\n",
    "Saturn Cloud to run the code\n",
    "Model\n",
    "For this homework we will use Convolutional Neural Network (CNN). Like in the lectures, we'll use Keras.\n",
    "\n",
    "You need to develop the model with following structure:\n",
    "\n",
    "- The shape for input should be `(150, 150, 3)` \n",
    "- Next, create a convolutional layer `(Conv2D)`: \n",
    "    - Use 32 filters \n",
    "    - Kernel size should be `(3, 3)` (that's the size of the filter) \n",
    "    - Use `'relu'` as activation \n",
    "- Reduce the size of the feature map with max pooling `(MaxPooling2D)` \n",
    "    - Set the pooling size to `(2, 2)` \n",
    "- Turn the multi-dimensional result into vectors using a `Flatten` layer \n",
    "- Next, add a `Dense` layer with 64 neurons and `'relu'` activation \n",
    "- Finally, create the `Dense` layer with 1 neuron - this will be the output \n",
    "    - The output layer should have an activation - use the appropriate activation for the binary classification case \n",
    "- As optimizer use `SGD` with the following parameters:\n",
    "    - `SGD(lr=0.002, momentum=0.8)`\n"
   ]
  },
  {
   "cell_type": "markdown",
   "metadata": {},
   "source": [
    "***Question 1***\n",
    "Since we have a binary classification problem, what is the best loss function for us?\n",
    "\n",
    "- mean squared error\n",
    "- **binary crossentropy**\n",
    "- categorical crossentropy\n",
    "- cosine similarity\n",
    "\n",
    "Note: since we specify an activation for the output layer, we don't need to set `from_logits=True`"
   ]
  },
  {
   "cell_type": "markdown",
   "metadata": {},
   "source": [
    "***Question 2***\n",
    "What's the number of parameters in the convolutional layer of our model? You can use the `summary` method for that.\n",
    "\n",
    "- 1\n",
    "- 65\n",
    "- **896**\n",
    "- 11214912"
   ]
  },
  {
   "cell_type": "markdown",
   "metadata": {},
   "source": [
    "### Generators and Training\n",
    "For the next two questions, use the following data generator for both train and test sets:\n",
    "\n",
    "`ImageDataGenerator(rescale=1./255)`\n",
    "- We don't need to do any additional pre-processing for the images.\n",
    "- When reading the data from train/test directories, check the `class_mode` parameter. Which value should it be for a binary classification problem?\n",
    "- Use `batch_size=20`\n",
    "- Use `shuffle=True` for both training and test sets.\n",
    "For training use `.fit()` with the following params:\n",
    "\n",
    "```python\n",
    "model.fit(\n",
    "    train_ds,\n",
    "    epochs=10,\n",
    "    validation_data=test_ds\n",
    ")\n",
    "```\n"
   ]
  },
  {
   "cell_type": "markdown",
   "metadata": {},
   "source": [
    "***Question 3***\n",
    "What is the median of training accuracy for all the epochs for this model?\n",
    "\n",
    "- 0.20\n",
    "- 0.40\n",
    "- 0.60\n",
    "- **0.80**\n",
    "\n",
    "\n",
    "***Question 4***\n",
    "What is the standard deviation of training loss for all the epochs for this model?\n",
    "\n",
    "- 0.031\n",
    "- 0.061\n",
    "- **0.091**\n",
    "- 0.131"
   ]
  },
  {
   "cell_type": "code",
   "execution_count": null,
   "metadata": {},
   "outputs": [],
   "source": []
  }
 ],
 "metadata": {
  "kernelspec": {
   "display_name": "Python 3",
   "language": "python",
   "name": "python3"
  },
  "language_info": {
   "name": "python",
   "version": "3.10.12"
  }
 },
 "nbformat": 4,
 "nbformat_minor": 2
}
